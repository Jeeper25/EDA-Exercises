{
 "cells": [
  {
   "cell_type": "code",
   "execution_count": 1,
   "id": "f34902d0",
   "metadata": {},
   "outputs": [],
   "source": [
    "import pandas as pd"
   ]
  },
  {
   "cell_type": "code",
   "execution_count": 16,
   "id": "0e7d6e82",
   "metadata": {},
   "outputs": [
    {
     "name": "stdout",
     "output_type": "stream",
     "text": [
      "The s1 series values are: [10 20 30 40 50]\n",
      "The s1 index values are: [0 1 2 3 4]\n",
      "\n",
      "\n",
      "The s_tuple series values are: ['apple' 'banana' 'cherry']\n",
      "The s_tuple index values are: [0 1 2]\n",
      "\n",
      "\n",
      "The s_dictionary series values are: ['Ford' 'Mustang' 1964]\n",
      "The s_dictionary index values are: ['brand' 'model' 'year']\n"
     ]
    }
   ],
   "source": [
    "s1 = pd.Series([10,20,30,40,50])\n",
    "s_tuple = pd.Series([\"apple\", \"banana\", \"cherry\"])\n",
    "s_dictionary = {\"brand\": \"Ford\", \"model\": \"Mustang\", \"year\": 1964}\n",
    "dict = pd.Series(s_dictionary)\n",
    "\n",
    "print(\"The s1 series values are:\", s1.values)\n",
    "print(\"The s1 index values are:\", s1.index.values)\n",
    "print(\"\\n\")\n",
    "print(\"The s_tuple series values are:\", s_tuple.values)\n",
    "print(\"The s_tuple index values are:\", s_tuple.index.values)\n",
    "print(\"\\n\")\n",
    "print(\"The s_dictionary series values are:\", dict.values)\n",
    "print(\"The s_dictionary index values are:\", dict.index.values)"
   ]
  },
  {
   "cell_type": "code",
   "execution_count": 20,
   "id": "3dc40a07",
   "metadata": {},
   "outputs": [
    {
     "name": "stdout",
     "output_type": "stream",
     "text": [
      "English    80\n",
      "Science    93\n",
      "Social     78\n",
      "Tamil      85\n",
      "Maths      97\n",
      "dtype: int64\n"
     ]
    }
   ],
   "source": [
    "s2 = pd.Series([80,93,78,85,97], index = ['English','Science','Social','Tamil','Maths'])\n",
    "print(s2)"
   ]
  },
  {
   "cell_type": "code",
   "execution_count": 23,
   "id": "0b84f89e",
   "metadata": {},
   "outputs": [
    {
     "name": "stdout",
     "output_type": "stream",
     "text": [
      "Student Marks\n",
      "          Subject\n",
      "English       80\n",
      "Science       93\n",
      "Social        78\n",
      "Tamil         85\n",
      "Maths         97\n"
     ]
    }
   ],
   "source": [
    "df_marks = pd.DataFrame(s2, columns=['Subject'])\n",
    "print(\"Student Marks\\n\",df_marks)\n"
   ]
  },
  {
   "cell_type": "code",
   "execution_count": 26,
   "id": "b1fa2fc1",
   "metadata": {},
   "outputs": [
    {
     "data": {
      "text/plain": [
       "80"
      ]
     },
     "execution_count": 26,
     "metadata": {},
     "output_type": "execute_result"
    }
   ],
   "source": [
    "s2[0]"
   ]
  },
  {
   "cell_type": "code",
   "execution_count": 27,
   "id": "779ab00a",
   "metadata": {},
   "outputs": [
    {
     "data": {
      "text/plain": [
       "Science    93\n",
       "Social     78\n",
       "dtype: int64"
      ]
     },
     "execution_count": 27,
     "metadata": {},
     "output_type": "execute_result"
    }
   ],
   "source": [
    "s2[1:3]"
   ]
  },
  {
   "cell_type": "code",
   "execution_count": 28,
   "id": "6bac8fe7",
   "metadata": {},
   "outputs": [
    {
     "data": {
      "text/plain": [
       "85"
      ]
     },
     "execution_count": 28,
     "metadata": {},
     "output_type": "execute_result"
    }
   ],
   "source": [
    "s2['Tamil']"
   ]
  },
  {
   "cell_type": "code",
   "execution_count": 29,
   "id": "77a28bc6",
   "metadata": {},
   "outputs": [
    {
     "name": "stdout",
     "output_type": "stream",
     "text": [
      "Orange         80\n",
      "Apples        210\n",
      "Bananas        50\n",
      "Grapes         90\n",
      "Watermelon     70\n",
      "dtype: int64\n"
     ]
    }
   ],
   "source": [
    "dict_fruits = { 'Orange':80,\n",
    "          'Apples':210,\n",
    "          'Bananas':50,\n",
    "         'Grapes':90,\n",
    "         'Watermelon':70}\n",
    "fruits = pd.Series(dict_fruits)\n",
    "print(fruits)"
   ]
  },
  {
   "cell_type": "code",
   "execution_count": 30,
   "id": "5cde9080",
   "metadata": {},
   "outputs": [
    {
     "data": {
      "text/plain": [
       "90"
      ]
     },
     "execution_count": 30,
     "metadata": {},
     "output_type": "execute_result"
    }
   ],
   "source": [
    "fruits['Grapes']"
   ]
  },
  {
   "cell_type": "code",
   "execution_count": 31,
   "id": "8692c1e2",
   "metadata": {},
   "outputs": [
    {
     "name": "stdout",
     "output_type": "stream",
     "text": [
      "         Subjects\n",
      "English        80\n",
      "Science        93\n",
      "Social         78\n",
      "Tamil          85\n",
      "Maths          97\n"
     ]
    }
   ],
   "source": [
    "df_marks = pd.DataFrame(s2, columns=['Subjects'])\n",
    "print(df_marks)"
   ]
  },
  {
   "cell_type": "code",
   "execution_count": 36,
   "id": "e12fcbcf",
   "metadata": {},
   "outputs": [
    {
     "name": "stdout",
     "output_type": "stream",
     "text": [
      "          height  weight\n",
      "Person 1     5.3      65\n",
      "Person 2     6.2      89\n",
      "Person 3     5.8      75\n",
      "Person 4     5.0      60\n",
      "Person 5     5.5      59\n"
     ]
    }
   ],
   "source": [
    "df_person = pd.DataFrame({'height': height, 'weight': weight})\n",
    "print(df_person)\n",
    "\n",
    "height = pd.Series([5.3, 6.2,5.8,5.0,5.5], index = ['Person 1','Person 2','Person 3','Person 4','Person 5'])\n",
    "weight = pd.Series([65,89,75,60,59], index = ['Person 1','Person 2','Person 3','Person 4','Person 5'])"
   ]
  },
  {
   "cell_type": "code",
   "execution_count": null,
   "id": "9ec5614b",
   "metadata": {},
   "outputs": [],
   "source": []
  },
  {
   "cell_type": "code",
   "execution_count": null,
   "id": "85cf92ca",
   "metadata": {},
   "outputs": [],
   "source": []
  }
 ],
 "metadata": {
  "kernelspec": {
   "display_name": "Python 3",
   "language": "python",
   "name": "python3"
  },
  "language_info": {
   "codemirror_mode": {
    "name": "ipython",
    "version": 3
   },
   "file_extension": ".py",
   "mimetype": "text/x-python",
   "name": "python",
   "nbconvert_exporter": "python",
   "pygments_lexer": "ipython3",
   "version": "3.8.8"
  }
 },
 "nbformat": 4,
 "nbformat_minor": 5
}
